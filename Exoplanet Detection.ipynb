{
  "cells": [
    {
      "cell_type": "markdown",
      "id": "29ec3608",
      "metadata": {
        "id": "29ec3608"
      },
      "source": [
        "Importing Libraries"
      ]
    },
    {
      "cell_type": "code",
      "execution_count": 82,
      "id": "03ac0046",
      "metadata": {
        "id": "03ac0046"
      },
      "outputs": [],
      "source": [
        "import numpy as np\n",
        "import pandas as pd\n",
        "import matplotlib.pyplot as plt\n",
        "plt.style.use('fivethirtyeight')\n",
        "from sklearn.preprocessing import StandardScaler, normalize\n",
        "from scipy import ndimage\n",
        "import seaborn as sns\n",
        "from imblearn.over_sampling import SMOTE\n",
        "from sklearn.model_selection import cross_val_score\n",
        "from sklearn.metrics import precision_score, recall_score,roc_curve,auc, f1_score, roc_auc_score,confusion_matrix, accuracy_score, classification_report"
      ]
    },
    {
      "cell_type": "markdown",
      "id": "6ca3687f",
      "metadata": {
        "id": "6ca3687f"
      },
      "source": [
        "Loading Dataset"
      ]
    },
    {
      "cell_type": "code",
      "execution_count": 83,
      "id": "9046759a",
      "metadata": {
        "id": "9046759a"
      },
      "outputs": [],
      "source": [
        "test_data = pd.read_csv('./exoTest.csv').fillna(0)\n",
        "train_data = pd.read_csv('./exoTrain.csv').fillna(0)"
      ]
    },
    {
      "cell_type": "code",
      "execution_count": 84,
      "id": "35b16ef9",
      "metadata": {
        "colab": {
          "base_uri": "https://localhost:8080/",
          "height": 299
        },
        "id": "35b16ef9",
        "outputId": "ab53bd2a-8db5-41af-8f7d-74a3a298d24b"
      },
      "outputs": [
        {
          "output_type": "execute_result",
          "data": {
            "text/plain": [
              "   LABEL   FLUX.1   FLUX.2   FLUX.3   FLUX.4   FLUX.5   FLUX.6  FLUX.7  \\\n",
              "0      2    93.85    83.81    20.10   -26.98   -39.56  -124.71 -135.18   \n",
              "1      2   -38.88   -33.83   -58.54   -40.09   -79.31   -72.81  -86.55   \n",
              "2      2   532.64   535.92   513.73   496.92   456.45   466.00  464.50   \n",
              "3      2   326.52   347.39   302.35   298.13   317.74   312.70  322.33   \n",
              "4      2 -1107.21 -1112.59 -1118.95 -1095.10 -1057.55 -1034.48 -998.34   \n",
              "\n",
              "    FLUX.8  FLUX.9  ...  FLUX.3188  FLUX.3189  FLUX.3190  FLUX.3191  \\\n",
              "0   -96.27  -79.89  ...     -78.07    -102.15    -102.15      25.13   \n",
              "1   -85.33  -83.97  ...      -3.28     -32.21     -32.21     -24.89   \n",
              "2   486.39  436.56  ...     -71.69      13.31      13.31     -29.89   \n",
              "3   311.31  312.42  ...       5.71      -3.73      -3.73      30.05   \n",
              "4 -1022.71 -989.57  ...    -594.37    -401.66    -401.66    -357.24   \n",
              "\n",
              "   FLUX.3192  FLUX.3193  FLUX.3194  FLUX.3195  FLUX.3196  FLUX.3197  \n",
              "0      48.57      92.54      39.32      61.42       5.08     -39.54  \n",
              "1      -4.86       0.76     -11.70       6.46      16.00      19.93  \n",
              "2     -20.88       5.06     -11.80     -28.91     -70.02     -96.67  \n",
              "3      20.03     -12.67      -8.77     -17.31     -17.35      13.98  \n",
              "4    -443.76    -438.54    -399.71    -384.65    -411.79    -510.54  \n",
              "\n",
              "[5 rows x 3198 columns]"
            ],
            "text/html": [
              "\n",
              "  <div id=\"df-c2f73e22-bfec-4db4-9767-d3821d25adb5\">\n",
              "    <div class=\"colab-df-container\">\n",
              "      <div>\n",
              "<style scoped>\n",
              "    .dataframe tbody tr th:only-of-type {\n",
              "        vertical-align: middle;\n",
              "    }\n",
              "\n",
              "    .dataframe tbody tr th {\n",
              "        vertical-align: top;\n",
              "    }\n",
              "\n",
              "    .dataframe thead th {\n",
              "        text-align: right;\n",
              "    }\n",
              "</style>\n",
              "<table border=\"1\" class=\"dataframe\">\n",
              "  <thead>\n",
              "    <tr style=\"text-align: right;\">\n",
              "      <th></th>\n",
              "      <th>LABEL</th>\n",
              "      <th>FLUX.1</th>\n",
              "      <th>FLUX.2</th>\n",
              "      <th>FLUX.3</th>\n",
              "      <th>FLUX.4</th>\n",
              "      <th>FLUX.5</th>\n",
              "      <th>FLUX.6</th>\n",
              "      <th>FLUX.7</th>\n",
              "      <th>FLUX.8</th>\n",
              "      <th>FLUX.9</th>\n",
              "      <th>...</th>\n",
              "      <th>FLUX.3188</th>\n",
              "      <th>FLUX.3189</th>\n",
              "      <th>FLUX.3190</th>\n",
              "      <th>FLUX.3191</th>\n",
              "      <th>FLUX.3192</th>\n",
              "      <th>FLUX.3193</th>\n",
              "      <th>FLUX.3194</th>\n",
              "      <th>FLUX.3195</th>\n",
              "      <th>FLUX.3196</th>\n",
              "      <th>FLUX.3197</th>\n",
              "    </tr>\n",
              "  </thead>\n",
              "  <tbody>\n",
              "    <tr>\n",
              "      <th>0</th>\n",
              "      <td>2</td>\n",
              "      <td>93.85</td>\n",
              "      <td>83.81</td>\n",
              "      <td>20.10</td>\n",
              "      <td>-26.98</td>\n",
              "      <td>-39.56</td>\n",
              "      <td>-124.71</td>\n",
              "      <td>-135.18</td>\n",
              "      <td>-96.27</td>\n",
              "      <td>-79.89</td>\n",
              "      <td>...</td>\n",
              "      <td>-78.07</td>\n",
              "      <td>-102.15</td>\n",
              "      <td>-102.15</td>\n",
              "      <td>25.13</td>\n",
              "      <td>48.57</td>\n",
              "      <td>92.54</td>\n",
              "      <td>39.32</td>\n",
              "      <td>61.42</td>\n",
              "      <td>5.08</td>\n",
              "      <td>-39.54</td>\n",
              "    </tr>\n",
              "    <tr>\n",
              "      <th>1</th>\n",
              "      <td>2</td>\n",
              "      <td>-38.88</td>\n",
              "      <td>-33.83</td>\n",
              "      <td>-58.54</td>\n",
              "      <td>-40.09</td>\n",
              "      <td>-79.31</td>\n",
              "      <td>-72.81</td>\n",
              "      <td>-86.55</td>\n",
              "      <td>-85.33</td>\n",
              "      <td>-83.97</td>\n",
              "      <td>...</td>\n",
              "      <td>-3.28</td>\n",
              "      <td>-32.21</td>\n",
              "      <td>-32.21</td>\n",
              "      <td>-24.89</td>\n",
              "      <td>-4.86</td>\n",
              "      <td>0.76</td>\n",
              "      <td>-11.70</td>\n",
              "      <td>6.46</td>\n",
              "      <td>16.00</td>\n",
              "      <td>19.93</td>\n",
              "    </tr>\n",
              "    <tr>\n",
              "      <th>2</th>\n",
              "      <td>2</td>\n",
              "      <td>532.64</td>\n",
              "      <td>535.92</td>\n",
              "      <td>513.73</td>\n",
              "      <td>496.92</td>\n",
              "      <td>456.45</td>\n",
              "      <td>466.00</td>\n",
              "      <td>464.50</td>\n",
              "      <td>486.39</td>\n",
              "      <td>436.56</td>\n",
              "      <td>...</td>\n",
              "      <td>-71.69</td>\n",
              "      <td>13.31</td>\n",
              "      <td>13.31</td>\n",
              "      <td>-29.89</td>\n",
              "      <td>-20.88</td>\n",
              "      <td>5.06</td>\n",
              "      <td>-11.80</td>\n",
              "      <td>-28.91</td>\n",
              "      <td>-70.02</td>\n",
              "      <td>-96.67</td>\n",
              "    </tr>\n",
              "    <tr>\n",
              "      <th>3</th>\n",
              "      <td>2</td>\n",
              "      <td>326.52</td>\n",
              "      <td>347.39</td>\n",
              "      <td>302.35</td>\n",
              "      <td>298.13</td>\n",
              "      <td>317.74</td>\n",
              "      <td>312.70</td>\n",
              "      <td>322.33</td>\n",
              "      <td>311.31</td>\n",
              "      <td>312.42</td>\n",
              "      <td>...</td>\n",
              "      <td>5.71</td>\n",
              "      <td>-3.73</td>\n",
              "      <td>-3.73</td>\n",
              "      <td>30.05</td>\n",
              "      <td>20.03</td>\n",
              "      <td>-12.67</td>\n",
              "      <td>-8.77</td>\n",
              "      <td>-17.31</td>\n",
              "      <td>-17.35</td>\n",
              "      <td>13.98</td>\n",
              "    </tr>\n",
              "    <tr>\n",
              "      <th>4</th>\n",
              "      <td>2</td>\n",
              "      <td>-1107.21</td>\n",
              "      <td>-1112.59</td>\n",
              "      <td>-1118.95</td>\n",
              "      <td>-1095.10</td>\n",
              "      <td>-1057.55</td>\n",
              "      <td>-1034.48</td>\n",
              "      <td>-998.34</td>\n",
              "      <td>-1022.71</td>\n",
              "      <td>-989.57</td>\n",
              "      <td>...</td>\n",
              "      <td>-594.37</td>\n",
              "      <td>-401.66</td>\n",
              "      <td>-401.66</td>\n",
              "      <td>-357.24</td>\n",
              "      <td>-443.76</td>\n",
              "      <td>-438.54</td>\n",
              "      <td>-399.71</td>\n",
              "      <td>-384.65</td>\n",
              "      <td>-411.79</td>\n",
              "      <td>-510.54</td>\n",
              "    </tr>\n",
              "  </tbody>\n",
              "</table>\n",
              "<p>5 rows × 3198 columns</p>\n",
              "</div>\n",
              "      <button class=\"colab-df-convert\" onclick=\"convertToInteractive('df-c2f73e22-bfec-4db4-9767-d3821d25adb5')\"\n",
              "              title=\"Convert this dataframe to an interactive table.\"\n",
              "              style=\"display:none;\">\n",
              "        \n",
              "  <svg xmlns=\"http://www.w3.org/2000/svg\" height=\"24px\"viewBox=\"0 0 24 24\"\n",
              "       width=\"24px\">\n",
              "    <path d=\"M0 0h24v24H0V0z\" fill=\"none\"/>\n",
              "    <path d=\"M18.56 5.44l.94 2.06.94-2.06 2.06-.94-2.06-.94-.94-2.06-.94 2.06-2.06.94zm-11 1L8.5 8.5l.94-2.06 2.06-.94-2.06-.94L8.5 2.5l-.94 2.06-2.06.94zm10 10l.94 2.06.94-2.06 2.06-.94-2.06-.94-.94-2.06-.94 2.06-2.06.94z\"/><path d=\"M17.41 7.96l-1.37-1.37c-.4-.4-.92-.59-1.43-.59-.52 0-1.04.2-1.43.59L10.3 9.45l-7.72 7.72c-.78.78-.78 2.05 0 2.83L4 21.41c.39.39.9.59 1.41.59.51 0 1.02-.2 1.41-.59l7.78-7.78 2.81-2.81c.8-.78.8-2.07 0-2.86zM5.41 20L4 18.59l7.72-7.72 1.47 1.35L5.41 20z\"/>\n",
              "  </svg>\n",
              "      </button>\n",
              "      \n",
              "  <style>\n",
              "    .colab-df-container {\n",
              "      display:flex;\n",
              "      flex-wrap:wrap;\n",
              "      gap: 12px;\n",
              "    }\n",
              "\n",
              "    .colab-df-convert {\n",
              "      background-color: #E8F0FE;\n",
              "      border: none;\n",
              "      border-radius: 50%;\n",
              "      cursor: pointer;\n",
              "      display: none;\n",
              "      fill: #1967D2;\n",
              "      height: 32px;\n",
              "      padding: 0 0 0 0;\n",
              "      width: 32px;\n",
              "    }\n",
              "\n",
              "    .colab-df-convert:hover {\n",
              "      background-color: #E2EBFA;\n",
              "      box-shadow: 0px 1px 2px rgba(60, 64, 67, 0.3), 0px 1px 3px 1px rgba(60, 64, 67, 0.15);\n",
              "      fill: #174EA6;\n",
              "    }\n",
              "\n",
              "    [theme=dark] .colab-df-convert {\n",
              "      background-color: #3B4455;\n",
              "      fill: #D2E3FC;\n",
              "    }\n",
              "\n",
              "    [theme=dark] .colab-df-convert:hover {\n",
              "      background-color: #434B5C;\n",
              "      box-shadow: 0px 1px 3px 1px rgba(0, 0, 0, 0.15);\n",
              "      filter: drop-shadow(0px 1px 2px rgba(0, 0, 0, 0.3));\n",
              "      fill: #FFFFFF;\n",
              "    }\n",
              "  </style>\n",
              "\n",
              "      <script>\n",
              "        const buttonEl =\n",
              "          document.querySelector('#df-c2f73e22-bfec-4db4-9767-d3821d25adb5 button.colab-df-convert');\n",
              "        buttonEl.style.display =\n",
              "          google.colab.kernel.accessAllowed ? 'block' : 'none';\n",
              "\n",
              "        async function convertToInteractive(key) {\n",
              "          const element = document.querySelector('#df-c2f73e22-bfec-4db4-9767-d3821d25adb5');\n",
              "          const dataTable =\n",
              "            await google.colab.kernel.invokeFunction('convertToInteractive',\n",
              "                                                     [key], {});\n",
              "          if (!dataTable) return;\n",
              "\n",
              "          const docLinkHtml = 'Like what you see? Visit the ' +\n",
              "            '<a target=\"_blank\" href=https://colab.research.google.com/notebooks/data_table.ipynb>data table notebook</a>'\n",
              "            + ' to learn more about interactive tables.';\n",
              "          element.innerHTML = '';\n",
              "          dataTable['output_type'] = 'display_data';\n",
              "          await google.colab.output.renderOutput(dataTable, element);\n",
              "          const docLink = document.createElement('div');\n",
              "          docLink.innerHTML = docLinkHtml;\n",
              "          element.appendChild(docLink);\n",
              "        }\n",
              "      </script>\n",
              "    </div>\n",
              "  </div>\n",
              "  "
            ]
          },
          "metadata": {},
          "execution_count": 84
        }
      ],
      "source": [
        "train_data.head()"
      ]
    },
    {
      "cell_type": "markdown",
      "id": "e6922e7b",
      "metadata": {
        "id": "e6922e7b"
      },
      "source": [
        "Label Encoding"
      ]
    },
    {
      "cell_type": "code",
      "execution_count": 85,
      "id": "1f333372",
      "metadata": {
        "id": "1f333372"
      },
      "outputs": [],
      "source": [
        "categ = {2: 1,1: 0}\n",
        "train_data.LABEL = [categ[item] for item in train_data.LABEL]\n",
        "test_data.LABEL = [categ[item] for item in test_data.LABEL]"
      ]
    },
    {
      "cell_type": "markdown",
      "id": "ef662963",
      "metadata": {
        "id": "ef662963"
      },
      "source": [
        "Central Tendancy and Variations of Data"
      ]
    },
    {
      "cell_type": "code",
      "execution_count": 86,
      "id": "96c48122",
      "metadata": {
        "colab": {
          "base_uri": "https://localhost:8080/",
          "height": 394
        },
        "id": "96c48122",
        "outputId": "ff4eeb00-e465-44a8-c805-e80143ac0eb0"
      },
      "outputs": [
        {
          "output_type": "execute_result",
          "data": {
            "text/plain": [
              "             LABEL         FLUX.1         FLUX.2         FLUX.3  \\\n",
              "count  1073.000000    1073.000000    1073.000000    1073.000000   \n",
              "mean      0.034483    -498.579422    -459.027353    -433.201240   \n",
              "std       0.182551   10288.543169    9709.563821    9287.704085   \n",
              "min       0.000000 -216192.000000 -219338.000000 -212822.000000   \n",
              "25%       0.000000     -67.500000     -70.190000     -69.800000   \n",
              "50%       0.000000      -2.260000      -2.740000      -1.030000   \n",
              "75%       0.000000      68.180000      55.330000      57.210000   \n",
              "max       1.000000  150725.800000  129578.360000  102184.980000   \n",
              "\n",
              "              FLUX.4         FLUX.5         FLUX.6         FLUX.7  \\\n",
              "count    1073.000000    1073.000000    1073.000000    1073.000000   \n",
              "mean     -465.809031    -479.015126    -516.356198    -487.985061   \n",
              "std      9326.086668    8967.981474    8748.598720    8731.189456   \n",
              "min   -217468.000000 -221268.000000 -221588.000000 -226158.000000   \n",
              "25%       -65.940000     -57.780000     -57.790000     -51.810000   \n",
              "50%        -4.130000      -2.450000      -2.900000      -2.750000   \n",
              "75%        50.690000      52.730000      53.520000      50.740000   \n",
              "max     82253.980000   67934.170000   48063.520000   42745.020000   \n",
              "\n",
              "              FLUX.8         FLUX.9  ...     FLUX.3188     FLUX.3189  \\\n",
              "count    1073.000000    1073.000000  ...  1.073000e+03  1.073000e+03   \n",
              "mean     -457.824250    -447.749059  ...  1.920713e+03  2.317911e+03   \n",
              "std      8544.620284    8588.676088  ...  5.843136e+04  7.441847e+04   \n",
              "min   -224812.000000 -223916.000000  ... -3.240480e+05 -3.045540e+05   \n",
              "25%       -53.500000     -49.290000  ... -2.778000e+01 -2.483000e+01   \n",
              "50%        -2.090000      -2.690000  ...  1.550000e+00  3.760000e+00   \n",
              "75%        42.530000      39.840000  ...  2.445000e+01  2.926000e+01   \n",
              "max     23435.380000   28871.000000  ...  1.779338e+06  2.379227e+06   \n",
              "\n",
              "          FLUX.3190     FLUX.3191     FLUX.3192     FLUX.3193      FLUX.3194  \\\n",
              "count  1.073000e+03  1.073000e+03  1.073000e+03  1.073000e+03    1073.000000   \n",
              "mean   2.678258e+03  2.762034e+03  2.662431e+03  2.594361e+03   -1232.330363   \n",
              "std    9.204940e+04  1.054687e+05  1.072232e+05  1.117908e+05   27797.928743   \n",
              "min   -2.933140e+05 -2.838420e+05 -3.288214e+05 -4.788706e+05 -775322.000000   \n",
              "25%   -2.437000e+01 -2.731000e+01 -2.903000e+01 -2.765000e+01     -35.130000   \n",
              "50%    3.020000e+00  2.770000e+00  2.480000e+00  4.730000e+00      -2.850000   \n",
              "75%    3.444000e+01  3.389000e+01  3.600000e+01  3.889000e+01      22.400000   \n",
              "max    2.992070e+06  3.434973e+06  3.481220e+06  3.616292e+06   60257.870000   \n",
              "\n",
              "           FLUX.3195      FLUX.3196      FLUX.3197  \n",
              "count    1073.000000    1073.000000    1073.000000  \n",
              "mean    -1291.919059   -1132.150941    -998.853187  \n",
              "std     30111.307505   29450.461568   26981.317785  \n",
              "min   -732006.000000 -700992.000000 -643170.000000  \n",
              "25%       -28.910000     -24.950000     -23.670000  \n",
              "50%         0.410000       1.630000       1.920000  \n",
              "75%        23.860000      26.780000      26.880000  \n",
              "max     62293.370000  105002.000000  125694.000000  \n",
              "\n",
              "[8 rows x 3198 columns]"
            ],
            "text/html": [
              "\n",
              "  <div id=\"df-a171dfec-d96c-40c6-b0c5-31d96d7fb457\">\n",
              "    <div class=\"colab-df-container\">\n",
              "      <div>\n",
              "<style scoped>\n",
              "    .dataframe tbody tr th:only-of-type {\n",
              "        vertical-align: middle;\n",
              "    }\n",
              "\n",
              "    .dataframe tbody tr th {\n",
              "        vertical-align: top;\n",
              "    }\n",
              "\n",
              "    .dataframe thead th {\n",
              "        text-align: right;\n",
              "    }\n",
              "</style>\n",
              "<table border=\"1\" class=\"dataframe\">\n",
              "  <thead>\n",
              "    <tr style=\"text-align: right;\">\n",
              "      <th></th>\n",
              "      <th>LABEL</th>\n",
              "      <th>FLUX.1</th>\n",
              "      <th>FLUX.2</th>\n",
              "      <th>FLUX.3</th>\n",
              "      <th>FLUX.4</th>\n",
              "      <th>FLUX.5</th>\n",
              "      <th>FLUX.6</th>\n",
              "      <th>FLUX.7</th>\n",
              "      <th>FLUX.8</th>\n",
              "      <th>FLUX.9</th>\n",
              "      <th>...</th>\n",
              "      <th>FLUX.3188</th>\n",
              "      <th>FLUX.3189</th>\n",
              "      <th>FLUX.3190</th>\n",
              "      <th>FLUX.3191</th>\n",
              "      <th>FLUX.3192</th>\n",
              "      <th>FLUX.3193</th>\n",
              "      <th>FLUX.3194</th>\n",
              "      <th>FLUX.3195</th>\n",
              "      <th>FLUX.3196</th>\n",
              "      <th>FLUX.3197</th>\n",
              "    </tr>\n",
              "  </thead>\n",
              "  <tbody>\n",
              "    <tr>\n",
              "      <th>count</th>\n",
              "      <td>1073.000000</td>\n",
              "      <td>1073.000000</td>\n",
              "      <td>1073.000000</td>\n",
              "      <td>1073.000000</td>\n",
              "      <td>1073.000000</td>\n",
              "      <td>1073.000000</td>\n",
              "      <td>1073.000000</td>\n",
              "      <td>1073.000000</td>\n",
              "      <td>1073.000000</td>\n",
              "      <td>1073.000000</td>\n",
              "      <td>...</td>\n",
              "      <td>1.073000e+03</td>\n",
              "      <td>1.073000e+03</td>\n",
              "      <td>1.073000e+03</td>\n",
              "      <td>1.073000e+03</td>\n",
              "      <td>1.073000e+03</td>\n",
              "      <td>1.073000e+03</td>\n",
              "      <td>1073.000000</td>\n",
              "      <td>1073.000000</td>\n",
              "      <td>1073.000000</td>\n",
              "      <td>1073.000000</td>\n",
              "    </tr>\n",
              "    <tr>\n",
              "      <th>mean</th>\n",
              "      <td>0.034483</td>\n",
              "      <td>-498.579422</td>\n",
              "      <td>-459.027353</td>\n",
              "      <td>-433.201240</td>\n",
              "      <td>-465.809031</td>\n",
              "      <td>-479.015126</td>\n",
              "      <td>-516.356198</td>\n",
              "      <td>-487.985061</td>\n",
              "      <td>-457.824250</td>\n",
              "      <td>-447.749059</td>\n",
              "      <td>...</td>\n",
              "      <td>1.920713e+03</td>\n",
              "      <td>2.317911e+03</td>\n",
              "      <td>2.678258e+03</td>\n",
              "      <td>2.762034e+03</td>\n",
              "      <td>2.662431e+03</td>\n",
              "      <td>2.594361e+03</td>\n",
              "      <td>-1232.330363</td>\n",
              "      <td>-1291.919059</td>\n",
              "      <td>-1132.150941</td>\n",
              "      <td>-998.853187</td>\n",
              "    </tr>\n",
              "    <tr>\n",
              "      <th>std</th>\n",
              "      <td>0.182551</td>\n",
              "      <td>10288.543169</td>\n",
              "      <td>9709.563821</td>\n",
              "      <td>9287.704085</td>\n",
              "      <td>9326.086668</td>\n",
              "      <td>8967.981474</td>\n",
              "      <td>8748.598720</td>\n",
              "      <td>8731.189456</td>\n",
              "      <td>8544.620284</td>\n",
              "      <td>8588.676088</td>\n",
              "      <td>...</td>\n",
              "      <td>5.843136e+04</td>\n",
              "      <td>7.441847e+04</td>\n",
              "      <td>9.204940e+04</td>\n",
              "      <td>1.054687e+05</td>\n",
              "      <td>1.072232e+05</td>\n",
              "      <td>1.117908e+05</td>\n",
              "      <td>27797.928743</td>\n",
              "      <td>30111.307505</td>\n",
              "      <td>29450.461568</td>\n",
              "      <td>26981.317785</td>\n",
              "    </tr>\n",
              "    <tr>\n",
              "      <th>min</th>\n",
              "      <td>0.000000</td>\n",
              "      <td>-216192.000000</td>\n",
              "      <td>-219338.000000</td>\n",
              "      <td>-212822.000000</td>\n",
              "      <td>-217468.000000</td>\n",
              "      <td>-221268.000000</td>\n",
              "      <td>-221588.000000</td>\n",
              "      <td>-226158.000000</td>\n",
              "      <td>-224812.000000</td>\n",
              "      <td>-223916.000000</td>\n",
              "      <td>...</td>\n",
              "      <td>-3.240480e+05</td>\n",
              "      <td>-3.045540e+05</td>\n",
              "      <td>-2.933140e+05</td>\n",
              "      <td>-2.838420e+05</td>\n",
              "      <td>-3.288214e+05</td>\n",
              "      <td>-4.788706e+05</td>\n",
              "      <td>-775322.000000</td>\n",
              "      <td>-732006.000000</td>\n",
              "      <td>-700992.000000</td>\n",
              "      <td>-643170.000000</td>\n",
              "    </tr>\n",
              "    <tr>\n",
              "      <th>25%</th>\n",
              "      <td>0.000000</td>\n",
              "      <td>-67.500000</td>\n",
              "      <td>-70.190000</td>\n",
              "      <td>-69.800000</td>\n",
              "      <td>-65.940000</td>\n",
              "      <td>-57.780000</td>\n",
              "      <td>-57.790000</td>\n",
              "      <td>-51.810000</td>\n",
              "      <td>-53.500000</td>\n",
              "      <td>-49.290000</td>\n",
              "      <td>...</td>\n",
              "      <td>-2.778000e+01</td>\n",
              "      <td>-2.483000e+01</td>\n",
              "      <td>-2.437000e+01</td>\n",
              "      <td>-2.731000e+01</td>\n",
              "      <td>-2.903000e+01</td>\n",
              "      <td>-2.765000e+01</td>\n",
              "      <td>-35.130000</td>\n",
              "      <td>-28.910000</td>\n",
              "      <td>-24.950000</td>\n",
              "      <td>-23.670000</td>\n",
              "    </tr>\n",
              "    <tr>\n",
              "      <th>50%</th>\n",
              "      <td>0.000000</td>\n",
              "      <td>-2.260000</td>\n",
              "      <td>-2.740000</td>\n",
              "      <td>-1.030000</td>\n",
              "      <td>-4.130000</td>\n",
              "      <td>-2.450000</td>\n",
              "      <td>-2.900000</td>\n",
              "      <td>-2.750000</td>\n",
              "      <td>-2.090000</td>\n",
              "      <td>-2.690000</td>\n",
              "      <td>...</td>\n",
              "      <td>1.550000e+00</td>\n",
              "      <td>3.760000e+00</td>\n",
              "      <td>3.020000e+00</td>\n",
              "      <td>2.770000e+00</td>\n",
              "      <td>2.480000e+00</td>\n",
              "      <td>4.730000e+00</td>\n",
              "      <td>-2.850000</td>\n",
              "      <td>0.410000</td>\n",
              "      <td>1.630000</td>\n",
              "      <td>1.920000</td>\n",
              "    </tr>\n",
              "    <tr>\n",
              "      <th>75%</th>\n",
              "      <td>0.000000</td>\n",
              "      <td>68.180000</td>\n",
              "      <td>55.330000</td>\n",
              "      <td>57.210000</td>\n",
              "      <td>50.690000</td>\n",
              "      <td>52.730000</td>\n",
              "      <td>53.520000</td>\n",
              "      <td>50.740000</td>\n",
              "      <td>42.530000</td>\n",
              "      <td>39.840000</td>\n",
              "      <td>...</td>\n",
              "      <td>2.445000e+01</td>\n",
              "      <td>2.926000e+01</td>\n",
              "      <td>3.444000e+01</td>\n",
              "      <td>3.389000e+01</td>\n",
              "      <td>3.600000e+01</td>\n",
              "      <td>3.889000e+01</td>\n",
              "      <td>22.400000</td>\n",
              "      <td>23.860000</td>\n",
              "      <td>26.780000</td>\n",
              "      <td>26.880000</td>\n",
              "    </tr>\n",
              "    <tr>\n",
              "      <th>max</th>\n",
              "      <td>1.000000</td>\n",
              "      <td>150725.800000</td>\n",
              "      <td>129578.360000</td>\n",
              "      <td>102184.980000</td>\n",
              "      <td>82253.980000</td>\n",
              "      <td>67934.170000</td>\n",
              "      <td>48063.520000</td>\n",
              "      <td>42745.020000</td>\n",
              "      <td>23435.380000</td>\n",
              "      <td>28871.000000</td>\n",
              "      <td>...</td>\n",
              "      <td>1.779338e+06</td>\n",
              "      <td>2.379227e+06</td>\n",
              "      <td>2.992070e+06</td>\n",
              "      <td>3.434973e+06</td>\n",
              "      <td>3.481220e+06</td>\n",
              "      <td>3.616292e+06</td>\n",
              "      <td>60257.870000</td>\n",
              "      <td>62293.370000</td>\n",
              "      <td>105002.000000</td>\n",
              "      <td>125694.000000</td>\n",
              "    </tr>\n",
              "  </tbody>\n",
              "</table>\n",
              "<p>8 rows × 3198 columns</p>\n",
              "</div>\n",
              "      <button class=\"colab-df-convert\" onclick=\"convertToInteractive('df-a171dfec-d96c-40c6-b0c5-31d96d7fb457')\"\n",
              "              title=\"Convert this dataframe to an interactive table.\"\n",
              "              style=\"display:none;\">\n",
              "        \n",
              "  <svg xmlns=\"http://www.w3.org/2000/svg\" height=\"24px\"viewBox=\"0 0 24 24\"\n",
              "       width=\"24px\">\n",
              "    <path d=\"M0 0h24v24H0V0z\" fill=\"none\"/>\n",
              "    <path d=\"M18.56 5.44l.94 2.06.94-2.06 2.06-.94-2.06-.94-.94-2.06-.94 2.06-2.06.94zm-11 1L8.5 8.5l.94-2.06 2.06-.94-2.06-.94L8.5 2.5l-.94 2.06-2.06.94zm10 10l.94 2.06.94-2.06 2.06-.94-2.06-.94-.94-2.06-.94 2.06-2.06.94z\"/><path d=\"M17.41 7.96l-1.37-1.37c-.4-.4-.92-.59-1.43-.59-.52 0-1.04.2-1.43.59L10.3 9.45l-7.72 7.72c-.78.78-.78 2.05 0 2.83L4 21.41c.39.39.9.59 1.41.59.51 0 1.02-.2 1.41-.59l7.78-7.78 2.81-2.81c.8-.78.8-2.07 0-2.86zM5.41 20L4 18.59l7.72-7.72 1.47 1.35L5.41 20z\"/>\n",
              "  </svg>\n",
              "      </button>\n",
              "      \n",
              "  <style>\n",
              "    .colab-df-container {\n",
              "      display:flex;\n",
              "      flex-wrap:wrap;\n",
              "      gap: 12px;\n",
              "    }\n",
              "\n",
              "    .colab-df-convert {\n",
              "      background-color: #E8F0FE;\n",
              "      border: none;\n",
              "      border-radius: 50%;\n",
              "      cursor: pointer;\n",
              "      display: none;\n",
              "      fill: #1967D2;\n",
              "      height: 32px;\n",
              "      padding: 0 0 0 0;\n",
              "      width: 32px;\n",
              "    }\n",
              "\n",
              "    .colab-df-convert:hover {\n",
              "      background-color: #E2EBFA;\n",
              "      box-shadow: 0px 1px 2px rgba(60, 64, 67, 0.3), 0px 1px 3px 1px rgba(60, 64, 67, 0.15);\n",
              "      fill: #174EA6;\n",
              "    }\n",
              "\n",
              "    [theme=dark] .colab-df-convert {\n",
              "      background-color: #3B4455;\n",
              "      fill: #D2E3FC;\n",
              "    }\n",
              "\n",
              "    [theme=dark] .colab-df-convert:hover {\n",
              "      background-color: #434B5C;\n",
              "      box-shadow: 0px 1px 3px 1px rgba(0, 0, 0, 0.15);\n",
              "      filter: drop-shadow(0px 1px 2px rgba(0, 0, 0, 0.3));\n",
              "      fill: #FFFFFF;\n",
              "    }\n",
              "  </style>\n",
              "\n",
              "      <script>\n",
              "        const buttonEl =\n",
              "          document.querySelector('#df-a171dfec-d96c-40c6-b0c5-31d96d7fb457 button.colab-df-convert');\n",
              "        buttonEl.style.display =\n",
              "          google.colab.kernel.accessAllowed ? 'block' : 'none';\n",
              "\n",
              "        async function convertToInteractive(key) {\n",
              "          const element = document.querySelector('#df-a171dfec-d96c-40c6-b0c5-31d96d7fb457');\n",
              "          const dataTable =\n",
              "            await google.colab.kernel.invokeFunction('convertToInteractive',\n",
              "                                                     [key], {});\n",
              "          if (!dataTable) return;\n",
              "\n",
              "          const docLinkHtml = 'Like what you see? Visit the ' +\n",
              "            '<a target=\"_blank\" href=https://colab.research.google.com/notebooks/data_table.ipynb>data table notebook</a>'\n",
              "            + ' to learn more about interactive tables.';\n",
              "          element.innerHTML = '';\n",
              "          dataTable['output_type'] = 'display_data';\n",
              "          await google.colab.output.renderOutput(dataTable, element);\n",
              "          const docLink = document.createElement('div');\n",
              "          docLink.innerHTML = docLinkHtml;\n",
              "          element.appendChild(docLink);\n",
              "        }\n",
              "      </script>\n",
              "    </div>\n",
              "  </div>\n",
              "  "
            ]
          },
          "metadata": {},
          "execution_count": 86
        }
      ],
      "source": [
        "train_data\n",
        "train_data.describe()"
      ]
    },
    {
      "cell_type": "markdown",
      "id": "7d9bf00a",
      "metadata": {
        "id": "7d9bf00a"
      },
      "source": [
        "Outlier Detection and Removal"
      ]
    },
    {
      "cell_type": "code",
      "execution_count": 87,
      "id": "d1812374",
      "metadata": {
        "colab": {
          "base_uri": "https://localhost:8080/",
          "height": 481
        },
        "id": "d1812374",
        "outputId": "c1eae3cd-560e-4324-87f8-2ff43afc3464"
      },
      "outputs": [
        {
          "output_type": "execute_result",
          "data": {
            "text/plain": [
              "<matplotlib.axes._subplots.AxesSubplot at 0x7efdcc5cf7d0>"
            ]
          },
          "metadata": {},
          "execution_count": 87
        },
        {
          "output_type": "display_data",
          "data": {
            "text/plain": [
              "<Figure size 1080x432 with 5 Axes>"
            ],
            "image/png": "[encoded data removed]"
          },
          "metadata": {}
        }
      ],
      "source": [
        "fig, axes = plt.subplots(1, 5,figsize=(15, 6), sharey=True)\n",
        "fig.suptitle('Distribution of FLUX')\n",
        "\n",
        "sns.boxplot(ax=axes[0], data=train_data, x='LABEL', y='FLUX.1',palette=\"Set2\")\n",
        "sns.boxplot(ax=axes[1], data=train_data, x='LABEL', y='FLUX.2',palette=\"Set2\")\n",
        "sns.boxplot(ax=axes[2], data=train_data, x='LABEL', y='FLUX.3',palette=\"Set2\")\n",
        "sns.boxplot(ax=axes[3], data=train_data, x='LABEL', y='FLUX.4',palette=\"Set2\")\n",
        "sns.boxplot(ax=axes[4], data=train_data, x='LABEL', y='FLUX.5',palette=\"Set2\")"
      ]
    },
    {
      "cell_type": "code",
      "execution_count": 88,
      "id": "85b07294",
      "metadata": {
        "id": "85b07294"
      },
      "outputs": [],
      "source": [
        "train_data.drop(train_data[train_data['FLUX.1']>250000].index, axis=0, inplace=True)"
      ]
    },
    {
      "cell_type": "code",
      "execution_count": 89,
      "id": "cc63091b",
      "metadata": {
        "colab": {
          "base_uri": "https://localhost:8080/"
        },
        "id": "cc63091b",
        "outputId": "b1f03178-88c6-494c-9a7f-39a64e3d79ad"
      },
      "outputs": [
        {
          "output_type": "execute_result",
          "data": {
            "text/plain": [
              "0    1036\n",
              "1      37\n",
              "Name: LABEL, dtype: int64"
            ]
          },
          "metadata": {},
          "execution_count": 89
        }
      ],
      "source": [
        "train_data['LABEL'].value_counts()"
      ]
    },
    {
      "cell_type": "markdown",
      "id": "5800182b",
      "metadata": {
        "id": "5800182b"
      },
      "source": [
        "Dataset Splitting"
      ]
    },
    {
      "cell_type": "code",
      "execution_count": 90,
      "id": "034f1c41",
      "metadata": {
        "id": "034f1c41"
      },
      "outputs": [],
      "source": [
        "x_train = train_data.drop([\"LABEL\"],axis=1)\n",
        "y_train = train_data[\"LABEL\"]   \n",
        "x_test = test_data.drop([\"LABEL\"],axis=1)\n",
        "y_test = test_data[\"LABEL\"]"
      ]
    },
    {
      "cell_type": "markdown",
      "id": "9aaf7d99",
      "metadata": {
        "id": "9aaf7d99"
      },
      "source": [
        "Normalization"
      ]
    },
    {
      "cell_type": "code",
      "execution_count": 91,
      "id": "c8e27d58",
      "metadata": {
        "id": "c8e27d58"
      },
      "outputs": [],
      "source": [
        "x_train = normalized = normalize(x_train)\n",
        "x_test = normalize(x_test)"
      ]
    },
    {
      "cell_type": "markdown",
      "id": "4bde26ad",
      "metadata": {
        "id": "4bde26ad"
      },
      "source": [
        "Guassian Filter"
      ]
    },
    {
      "cell_type": "code",
      "execution_count": 92,
      "id": "09da2546",
      "metadata": {
        "id": "09da2546"
      },
      "outputs": [],
      "source": [
        "x_train = filtered = ndimage.filters.gaussian_filter(x_train, sigma=10)\n",
        "x_test = ndimage.filters.gaussian_filter(x_test, sigma=10)"
      ]
    },
    {
      "cell_type": "markdown",
      "id": "a5023617",
      "metadata": {
        "id": "a5023617"
      },
      "source": [
        "Feature Scaling"
      ]
    },
    {
      "cell_type": "code",
      "execution_count": 93,
      "id": "c31fb073",
      "metadata": {
        "id": "c31fb073"
      },
      "outputs": [],
      "source": [
        "std_scaler = StandardScaler()\n",
        "x_train = scaled = std_scaler.fit_transform(x_train)\n",
        "x_test = std_scaler.fit_transform(x_test)"
      ]
    },
    {
      "cell_type": "markdown",
      "id": "63c173cb",
      "metadata": {
        "id": "63c173cb"
      },
      "source": [
        "Dimensionality Reduction using Principal Component Analysis"
      ]
    },
    {
      "cell_type": "code",
      "execution_count": 94,
      "id": "78616f84",
      "metadata": {
        "colab": {
          "base_uri": "https://localhost:8080/"
        },
        "id": "78616f84",
        "outputId": "847142c0-50e8-4452-c5f3-144f9ffaa8a5"
      },
      "outputs": [
        {
          "output_type": "stream",
          "name": "stdout",
          "text": [
            "22\n"
          ]
        }
      ],
      "source": [
        "from sklearn.decomposition import PCA\n",
        "pca = PCA(random_state=420) \n",
        "x_train = pca.fit_transform(x_train)\n",
        "x_test = pca.transform(x_test)\n",
        "total=sum(pca.explained_variance_)\n",
        "k=0\n",
        "current_variance=0\n",
        "while current_variance/total < 0.90:\n",
        "    current_variance += pca.explained_variance_[k]\n",
        "    k=k+1\n",
        "print(k)"
      ]
    },
    {
      "cell_type": "code",
      "execution_count": 95,
      "id": "f36ec7d3",
      "metadata": {
        "colab": {
          "base_uri": "https://localhost:8080/",
          "height": 325
        },
        "id": "f36ec7d3",
        "outputId": "10524e34-305b-41db-884d-ec9a4a17e389"
      },
      "outputs": [
        {
          "output_type": "display_data",
          "data": {
            "text/plain": [
              "<Figure size 432x288 with 1 Axes>"
            ],
            "image/png": "[encoded data removed]"
          },
          "metadata": {}
        }
      ],
      "source": [
        "pca = PCA(n_components=k, random_state=420)\n",
        "x_train = pca.fit_transform(x_train)\n",
        "x_test = pca.transform(x_test)\n",
        "plt.figure()\n",
        "plt.plot(np.cumsum(pca.explained_variance_ratio_))\n",
        "plt.xlabel('Number of Components')\n",
        "plt.ylabel('Variance (%)')\n",
        "plt.title('Explained Variance Graph')\n",
        "plt.show()"
      ]
    },
    {
      "cell_type": "markdown",
      "id": "368c110b",
      "metadata": {
        "id": "368c110b"
      },
      "source": [
        "Resampling"
      ]
    },
    {
      "cell_type": "code",
      "execution_count": 96,
      "id": "a0a9da3a",
      "metadata": {
        "colab": {
          "base_uri": "https://localhost:8080/"
        },
        "id": "a0a9da3a",
        "outputId": "b25c7b99-1db3-4d48-d09f-60b7eb57d617"
      },
      "outputs": [
        {
          "output_type": "stream",
          "name": "stdout",
          "text": [
            "Before OverSampling, counts of label '1': 37\n",
            "Before OverSampling, counts of label '0': 1036 \n",
            "\n",
            "After OverSampling, counts of label '1': 1036\n",
            "After OverSampling, counts of label '0': 1036\n"
          ]
        }
      ],
      "source": [
        "print(\"Before OverSampling, counts of label '1': {}\".format(sum(y_train==1)))\n",
        "print(\"Before OverSampling, counts of label '0': {} \\n\".format(sum(y_train==0)))\n",
        "sm = SMOTE(random_state=27)\n",
        "x_train_res, y_train_res = sm.fit_resample(x_train, y_train.ravel())\n",
        "print(\"After OverSampling, counts of label '1': {}\".format(sum(y_train_res==1)))\n",
        "print(\"After OverSampling, counts of label '0': {}\".format(sum(y_train_res==0)))"
      ]
    },
    {
      "cell_type": "markdown",
      "source": [
        "Model Training"
      ],
      "metadata": {
        "id": "whkY1fZXleLG"
      },
      "id": "whkY1fZXleLG"
    },
    {
      "cell_type": "code",
      "source": [
        "def model(classifier,dtrain_x,dtrain_y,dtest_x,dtest_y):\n",
        "    #fit the model\n",
        "    classifier.fit(dtrain_x,dtrain_y)\n",
        "    predictions = classifier.predict(dtest_x)\n",
        "    \n",
        "    #Cross validation\n",
        "    accuracies = cross_val_score(estimator = classifier, X = x_train_res, y = y_train_res, cv = 5, n_jobs = -1)\n",
        "    mean = accuracies.mean()\n",
        "    variance = accuracies.std()\n",
        "    print(\"Accuracy mean: \"+ str(mean))\n",
        "    print(\"Accuracy variance: \"+ str(variance))\n",
        "    \n",
        "    #Accuracy\n",
        "    print (\"\\naccuracy_score :\",accuracy_score(dtest_y,predictions))\n",
        "    \n",
        "    #Classification report\n",
        "    print (\"\\nclassification report :\\n\",(classification_report(dtest_y,predictions)))\n",
        "    \n",
        "    #Confusion matrix\n",
        "    plt.figure(figsize=(13,10))\n",
        "    plt.subplot(221)\n",
        "    sns.heatmap(confusion_matrix(dtest_y,predictions),annot=True,cmap=\"viridis\",fmt = \"d\",linecolor=\"k\",linewidths=3)\n",
        "    plt.title(\"CONFUSION MATRIX\",fontsize=20)\n"
      ],
      "metadata": {
        "id": "1bFwOH8glhvs"
      },
      "id": "1bFwOH8glhvs",
      "execution_count": 97,
      "outputs": []
    },
    {
      "cell_type": "markdown",
      "source": [
        "Using Support Vector Machine(SVM) for prediction"
      ],
      "metadata": {
        "id": "GPnrOcqhlkji"
      },
      "id": "GPnrOcqhlkji"
    },
    {
      "cell_type": "code",
      "source": [
        "from sklearn.svm import SVC\n",
        "SVM_model=SVC()\n",
        "model(SVM_model,x_train_res,y_train_res,x_test,y_test)"
      ],
      "metadata": {
        "colab": {
          "base_uri": "https://localhost:8080/",
          "height": 718
        },
        "id": "6aGarvf-lxX_",
        "outputId": "846bc7fa-f9f2-44a5-a7a4-2c1e5828aac3"
      },
      "id": "6aGarvf-lxX_",
      "execution_count": 98,
      "outputs": [
        {
          "output_type": "stream",
          "name": "stdout",
          "text": [
            "Accuracy mean: 0.9956626506024098\n",
            "Accuracy variance: 0.008674698795180723\n",
            "\n",
            "accuracy_score : 0.9912280701754386\n",
            "\n",
            "classification report :\n",
            "               precision    recall  f1-score   support\n",
            "\n",
            "           0       0.99      1.00      1.00       565\n",
            "           1       0.00      0.00      0.00         5\n",
            "\n",
            "    accuracy                           0.99       570\n",
            "   macro avg       0.50      0.50      0.50       570\n",
            "weighted avg       0.98      0.99      0.99       570\n",
            "\n"
          ]
        },
        {
          "output_type": "stream",
          "name": "stderr",
          "text": [
            "/usr/local/lib/python3.7/dist-packages/sklearn/metrics/_classification.py:1318: UndefinedMetricWarning: Precision and F-score are ill-defined and being set to 0.0 in labels with no predicted samples. Use `zero_division` parameter to control this behavior.\n",
            "  _warn_prf(average, modifier, msg_start, len(result))\n",
            "/usr/local/lib/python3.7/dist-packages/sklearn/metrics/_classification.py:1318: UndefinedMetricWarning: Precision and F-score are ill-defined and being set to 0.0 in labels with no predicted samples. Use `zero_division` parameter to control this behavior.\n",
            "  _warn_prf(average, modifier, msg_start, len(result))\n",
            "/usr/local/lib/python3.7/dist-packages/sklearn/metrics/_classification.py:1318: UndefinedMetricWarning: Precision and F-score are ill-defined and being set to 0.0 in labels with no predicted samples. Use `zero_division` parameter to control this behavior.\n",
            "  _warn_prf(average, modifier, msg_start, len(result))\n"
          ]
        },
        {
          "output_type": "display_data",
          "data": {
            "text/plain": [
              "<Figure size 936x720 with 2 Axes>"
            ],
            "image/png": "[encoded data removed]"
          },
          "metadata": {}
        }
      ]
    },
    {
      "cell_type": "markdown",
      "source": [
        "Using Random Forest Model for prediction"
      ],
      "metadata": {
        "id": "3_g88XfnmaHD"
      },
      "id": "3_g88XfnmaHD"
    },
    {
      "cell_type": "code",
      "source": [
        "from sklearn.ensemble import RandomForestClassifier\n",
        "rf_classifier = RandomForestClassifier()\n",
        "model(rf_classifier,x_train_res,y_train_res,x_test,y_test)"
      ],
      "metadata": {
        "colab": {
          "base_uri": "https://localhost:8080/",
          "height": 718
        },
        "id": "TNWUnb3mmhu3",
        "outputId": "1108be14-50c1-495e-aba6-091331ea4d34"
      },
      "id": "TNWUnb3mmhu3",
      "execution_count": 99,
      "outputs": [
        {
          "output_type": "stream",
          "name": "stdout",
          "text": [
            "Accuracy mean: 1.0\n",
            "Accuracy variance: 0.0\n",
            "\n",
            "accuracy_score : 0.9912280701754386\n",
            "\n",
            "classification report :\n",
            "               precision    recall  f1-score   support\n",
            "\n",
            "           0       0.99      1.00      1.00       565\n",
            "           1       0.00      0.00      0.00         5\n",
            "\n",
            "    accuracy                           0.99       570\n",
            "   macro avg       0.50      0.50      0.50       570\n",
            "weighted avg       0.98      0.99      0.99       570\n",
            "\n"
          ]
        },
        {
          "output_type": "stream",
          "name": "stderr",
          "text": [
            "/usr/local/lib/python3.7/dist-packages/sklearn/metrics/_classification.py:1318: UndefinedMetricWarning: Precision and F-score are ill-defined and being set to 0.0 in labels with no predicted samples. Use `zero_division` parameter to control this behavior.\n",
            "  _warn_prf(average, modifier, msg_start, len(result))\n",
            "/usr/local/lib/python3.7/dist-packages/sklearn/metrics/_classification.py:1318: UndefinedMetricWarning: Precision and F-score are ill-defined and being set to 0.0 in labels with no predicted samples. Use `zero_division` parameter to control this behavior.\n",
            "  _warn_prf(average, modifier, msg_start, len(result))\n",
            "/usr/local/lib/python3.7/dist-packages/sklearn/metrics/_classification.py:1318: UndefinedMetricWarning: Precision and F-score are ill-defined and being set to 0.0 in labels with no predicted samples. Use `zero_division` parameter to control this behavior.\n",
            "  _warn_prf(average, modifier, msg_start, len(result))\n"
          ]
        },
        {
          "output_type": "display_data",
          "data": {
            "text/plain": [
              "<Figure size 936x720 with 2 Axes>"
            ],
            "image/png": "[encoded data removed]"
          },
          "metadata": {}
        }
      ]
    }
  ],
  "metadata": {
    "kernelspec": {
      "display_name": "Python 3.9.12 ('base')",
      "language": "python",
      "name": "python3"
    },
    "language_info": {
      "codemirror_mode": {
        "name": "ipython",
        "version": 3
      },
      "file_extension": ".py",
      "mimetype": "text/x-python",
      "name": "python",
      "nbconvert_exporter": "python",
      "pygments_lexer": "ipython3",
      "version": "3.9.12"
    },
    "vscode": {
      "interpreter": {
        "hash": "a2ab3825ac7005fb7b26f112e9c99ae62f464c629e30b0d534c3b931b6cbc3ff"
      }
    },
    "colab": {
      "provenance": []
    }
  },
  "nbformat": 4,
  "nbformat_minor": 5
}